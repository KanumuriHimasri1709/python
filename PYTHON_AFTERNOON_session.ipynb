{
  "nbformat": 4,
  "nbformat_minor": 0,
  "metadata": {
    "colab": {
      "provenance": [],
      "authorship_tag": "ABX9TyPg4Wwn76P+Sw5SuAor83tS",
      "include_colab_link": true
    },
    "kernelspec": {
      "name": "python3",
      "display_name": "Python 3"
    },
    "language_info": {
      "name": "python"
    }
  },
  "cells": [
    {
      "cell_type": "markdown",
      "metadata": {
        "id": "view-in-github",
        "colab_type": "text"
      },
      "source": [
        "<a href=\"https://colab.research.google.com/github/KanumuriHimasri1709/python/blob/main/PYTHON_AFTERNOON_session.ipynb\" target=\"_parent\"><img src=\"https://colab.research.google.com/assets/colab-badge.svg\" alt=\"Open In Colab\"/></a>"
      ]
    },
    {
      "cell_type": "code",
      "execution_count": null,
      "metadata": {
        "colab": {
          "base_uri": "https://localhost:8080/"
        },
        "id": "AxcsfI_7QVsw",
        "outputId": "2a610e91-2a0a-429d-ab13-50a75da0be9b"
      },
      "outputs": [
        {
          "output_type": "stream",
          "name": "stdout",
          "text": [
            "17**hima\n"
          ]
        }
      ],
      "source": [
        "a=17\n",
        "b=\"hima\"\n",
        "print(a,b,sep=\"**\")"
      ]
    },
    {
      "cell_type": "code",
      "source": [
        "h=\"hima\"\n",
        "i=\"sri\"\n",
        "print(h,end=\"!\")\n",
        "print(i)"
      ],
      "metadata": {
        "colab": {
          "base_uri": "https://localhost:8080/"
        },
        "id": "KXQqYcPjVqYf",
        "outputId": "5f414a08-f926-42ca-b947-38f791b8a9ca"
      },
      "execution_count": null,
      "outputs": [
        {
          "output_type": "stream",
          "name": "stdout",
          "text": [
            "hima!sri\n"
          ]
        }
      ]
    },
    {
      "cell_type": "code",
      "source": [
        "a=\" ^\"\n",
        "b=\"^\"\n",
        "print(a,b,sep=\"-\")\n",
        "s=\"(\"\n",
        "g=\")\"\n",
        "print(s,g,sep=\"o.o\")\n",
        "d=\" >\"\n",
        "e=\"<\"\n",
        "print(d,e,sep=\"^\")"
      ],
      "metadata": {
        "colab": {
          "base_uri": "https://localhost:8080/"
        },
        "id": "jEZnr6yGVqdZ",
        "outputId": "74e730e3-e928-4ebf-bbc8-748a24fcd8b4"
      },
      "execution_count": null,
      "outputs": [
        {
          "output_type": "stream",
          "name": "stdout",
          "text": [
            " ^-^\n",
            "(o.o)\n",
            " >^<\n"
          ]
        }
      ]
    },
    {
      "cell_type": "code",
      "source": [
        "\n",
        "#list comprehension\n",
        "num=[1,2,3,4,5]\n",
        "l=[i**2 for i in num]\n",
        "print(l)"
      ],
      "metadata": {
        "colab": {
          "base_uri": "https://localhost:8080/"
        },
        "id": "nRY2r_wVXRKL",
        "outputId": "37279119-8d4d-4d72-ff25-4fae2f38abe4"
      },
      "execution_count": null,
      "outputs": [
        {
          "output_type": "stream",
          "name": "stdout",
          "text": [
            "[1, 4, 9, 16, 25]\n"
          ]
        }
      ]
    },
    {
      "cell_type": "code",
      "source": [
        "\n",
        "#list comprehension\n",
        "num=[1,2,3,4,5]\n",
        "l=[print(i**2) for i in num]"
      ],
      "metadata": {
        "colab": {
          "base_uri": "https://localhost:8080/"
        },
        "id": "siIs_xRpXRNo",
        "outputId": "fb5bc167-f45d-45f3-8e43-9aee88f7bd81"
      },
      "execution_count": null,
      "outputs": [
        {
          "output_type": "stream",
          "name": "stdout",
          "text": [
            "1\n",
            "4\n",
            "9\n",
            "16\n",
            "25\n"
          ]
        }
      ]
    },
    {
      "cell_type": "code",
      "source": [
        "numbers=[1,2,3,4,5,6]\n",
        "l=[i for i in numbers if i%2==0]\n",
        "print(l)"
      ],
      "metadata": {
        "colab": {
          "base_uri": "https://localhost:8080/"
        },
        "id": "2yLyrvzFYZGR",
        "outputId": "0c23df03-fea2-49d3-e91c-83f13bb80dcb"
      },
      "execution_count": null,
      "outputs": [
        {
          "output_type": "stream",
          "name": "stdout",
          "text": [
            "[2, 4, 6]\n"
          ]
        }
      ]
    },
    {
      "cell_type": "code",
      "source": [
        "\n",
        "#conditional transformation\n",
        "num=[1,2,3,4,5]\n",
        "A=[]\n",
        "for i in num:\n",
        "    if i%2==0:\n",
        "        A.append(i**2)\n",
        "    else:\n",
        "        A.append(i)\n",
        "print(A)"
      ],
      "metadata": {
        "id": "rDIeYtEeeC_D",
        "colab": {
          "base_uri": "https://localhost:8080/"
        },
        "outputId": "378d71ad-a404-4e07-91b5-2267cc2305ac"
      },
      "execution_count": null,
      "outputs": [
        {
          "output_type": "stream",
          "name": "stdout",
          "text": [
            "[1, 4, 3, 16, 5]\n"
          ]
        }
      ]
    },
    {
      "cell_type": "code",
      "source": [
        "num=[1,2,3,4,5]\n",
        "a=[num**2 if num%2==0 else num for num in num]\n",
        "print(a)"
      ],
      "metadata": {
        "colab": {
          "base_uri": "https://localhost:8080/"
        },
        "id": "D9c86v3G3L_f",
        "outputId": "43e5e8d7-2c31-4518-d3ad-2721e8d618cc"
      },
      "execution_count": null,
      "outputs": [
        {
          "output_type": "stream",
          "name": "stdout",
          "text": [
            "[1, 4, 3, 16, 5]\n"
          ]
        }
      ]
    },
    {
      "cell_type": "code",
      "source": [
        "words=[\"apple\",\"banana\",\"cherry\",\"date\"]\n",
        "A=[]\n",
        "for k in words:\n",
        "    if 'a' in k:\n",
        "        A.append(k)\n",
        "print(A)"
      ],
      "metadata": {
        "colab": {
          "base_uri": "https://localhost:8080/"
        },
        "id": "pSn8GJxJ9qNJ",
        "outputId": "fd520a53-e1d3-475c-dd2a-78cbf2df7ac3"
      },
      "execution_count": null,
      "outputs": [
        {
          "output_type": "stream",
          "name": "stdout",
          "text": [
            "['apple', 'banana', 'date']\n"
          ]
        }
      ]
    },
    {
      "cell_type": "code",
      "source": [
        "A=[\"apple\",\"banana\",\"cherry\"]\n",
        "S=[r for r in A if 'a' in r]\n",
        "print(S)"
      ],
      "metadata": {
        "colab": {
          "base_uri": "https://localhost:8080/"
        },
        "id": "coONqA__7uhh",
        "outputId": "a28a32f6-90cc-46d1-a174-5716a0755157"
      },
      "execution_count": null,
      "outputs": [
        {
          "output_type": "stream",
          "name": "stdout",
          "text": [
            "['apple', 'banana']\n"
          ]
        }
      ]
    },
    {
      "cell_type": "code",
      "source": [
        "\n",
        "#Nested loops\n",
        "Mat=[[1,2,3],[4,5,6],[7,8,9]]\n",
        "H=[]\n",
        "for i in Mat:\n",
        "    for j in i:\n",
        "        H.append(j)\n",
        "print(H)"
      ],
      "metadata": {
        "colab": {
          "base_uri": "https://localhost:8080/"
        },
        "id": "5IYD9ZFuA8hz",
        "outputId": "7a215b07-bb2b-4d38-d82e-2cc7436c1859"
      },
      "execution_count": null,
      "outputs": [
        {
          "output_type": "stream",
          "name": "stdout",
          "text": [
            "[1, 2, 3, 4, 5, 6, 7, 8, 9]\n"
          ]
        }
      ]
    },
    {
      "cell_type": "code",
      "source": [
        "M=[[1,2,3],[4,5,6],[7,8,9]]\n",
        "A=[num for row in M for num in row]\n",
        "print(A)"
      ],
      "metadata": {
        "id": "u05pkL14DG3O",
        "colab": {
          "base_uri": "https://localhost:8080/"
        },
        "outputId": "c32f9876-9368-42d6-d766-338ae581c3c9"
      },
      "execution_count": null,
      "outputs": [
        {
          "output_type": "stream",
          "name": "stdout",
          "text": [
            "[1, 2, 3, 4, 5, 6, 7, 8, 9]\n"
          ]
        }
      ]
    }
  ]
}
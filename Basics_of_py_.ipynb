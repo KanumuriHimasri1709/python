{
  "nbformat": 4,
  "nbformat_minor": 0,
  "metadata": {
    "colab": {
      "provenance": [],
      "authorship_tag": "ABX9TyOgL04PKdTHxIVab5Uze3b9",
      "include_colab_link": true
    },
    "kernelspec": {
      "name": "python3",
      "display_name": "Python 3"
    },
    "language_info": {
      "name": "python"
    }
  },
  "cells": [
    {
      "cell_type": "markdown",
      "metadata": {
        "id": "view-in-github",
        "colab_type": "text"
      },
      "source": [
        "<a href=\"https://colab.research.google.com/github/KanumuriHimasri1709/python/blob/main/Basics_of_py_.ipynb\" target=\"_parent\"><img src=\"https://colab.research.google.com/assets/colab-badge.svg\" alt=\"Open In Colab\"/></a>"
      ]
    },
    {
      "cell_type": "code",
      "execution_count": null,
      "metadata": {
        "colab": {
          "base_uri": "https://localhost:8080/"
        },
        "id": "HZMDksFhihiU",
        "outputId": "6fd4916c-1bef-495f-c102-68f0e7cd1558"
      },
      "outputs": [
        {
          "output_type": "stream",
          "name": "stdout",
          "text": [
            "20\n",
            "2 3 5 7 11 13 17 19 "
          ]
        }
      ],
      "source": [
        "#prime number\n",
        "n=int(input())\n",
        "for num in range(2,n):\n",
        "    for i in range(2,num):\n",
        "        if num%i==0:\n",
        "            break\n",
        "    else:\n",
        "        print(num,end=\" \")"
      ]
    },
    {
      "cell_type": "code",
      "source": [
        "#Factorial\n",
        "n=int(input())\n",
        "fact=1\n",
        "for i in range(1,n+1):\n",
        "    fact*=i\n",
        "print(fact)"
      ],
      "metadata": {
        "colab": {
          "base_uri": "https://localhost:8080/"
        },
        "id": "SsB-3pAIjYXA",
        "outputId": "bb21cc76-2209-4b00-a9a8-6cbdd268776b"
      },
      "execution_count": null,
      "outputs": [
        {
          "output_type": "stream",
          "name": "stdout",
          "text": [
            "4\n",
            "24\n"
          ]
        }
      ]
    },
    {
      "cell_type": "code",
      "source": [
        "#fibnocci sequence\n",
        "n=int(input())\n",
        "a,b=0,1\n",
        "for i in range(n):\n",
        "    print(a,end=\" \")\n",
        "    a,b=b,a+b"
      ],
      "metadata": {
        "colab": {
          "base_uri": "https://localhost:8080/"
        },
        "id": "bYh2f_4EjsAu",
        "outputId": "da731ef7-051c-47af-93cb-3f1860808a26"
      },
      "execution_count": null,
      "outputs": [
        {
          "output_type": "stream",
          "name": "stdout",
          "text": [
            "5\n",
            "0 1 1 2 3 "
          ]
        }
      ]
    },
    {
      "cell_type": "code",
      "source": [
        "#count\n",
        "n=int(input())\n",
        "count=0\n",
        "while n>0:\n",
        "    n=n//10\n",
        "    count+=1\n",
        "print(count)"
      ],
      "metadata": {
        "colab": {
          "base_uri": "https://localhost:8080/"
        },
        "id": "envu4-bkkFbQ",
        "outputId": "feee957c-db48-444c-923b-db2bda89acf5"
      },
      "execution_count": null,
      "outputs": [
        {
          "output_type": "stream",
          "name": "stdout",
          "text": [
            "23456\n",
            "5\n"
          ]
        }
      ]
    },
    {
      "cell_type": "code",
      "source": [
        "#palindrome\n",
        "a=int(input())\n",
        "s=str(a)\n",
        "if s==s[::-1]:\n",
        "    print(\"palindrome\")\n",
        "else:\n",
        "    print(\"not palindrome\")"
      ],
      "metadata": {
        "colab": {
          "base_uri": "https://localhost:8080/"
        },
        "id": "K8jzDl6GkbLB",
        "outputId": "22d3ad14-a944-476d-8c7b-a16c1535817b"
      },
      "execution_count": null,
      "outputs": [
        {
          "output_type": "stream",
          "name": "stdout",
          "text": [
            "1123211\n",
            "palindrome\n"
          ]
        }
      ]
    },
    {
      "cell_type": "code",
      "source": [
        "#count-2\n",
        "s=input()\n",
        "if s==s[::-1]:\n",
        "    print(\"palindrome\")\n",
        "else:\n",
        "    print(\"not palindrome\")"
      ],
      "metadata": {
        "colab": {
          "base_uri": "https://localhost:8080/"
        },
        "id": "jAfjfFjok4en",
        "outputId": "7c9a6b0b-054c-4018-f935-a43485da8192"
      },
      "execution_count": null,
      "outputs": [
        {
          "output_type": "stream",
          "name": "stdout",
          "text": [
            "malayalam\n",
            "palindrome\n"
          ]
        }
      ]
    },
    {
      "cell_type": "code",
      "source": [
        "#leap year\n",
        "year=int(input())\n",
        "if (year%4==0 and year%100!=0) or (year%400==0):\n",
        "    print(\"leap year\")\n",
        "else:\n",
        "    print(\"non leap year\")"
      ],
      "metadata": {
        "colab": {
          "base_uri": "https://localhost:8080/"
        },
        "id": "u4oUUEWGlU85",
        "outputId": "975c49e4-681d-4a9d-9226-9bcd68811da6"
      },
      "execution_count": null,
      "outputs": [
        {
          "output_type": "stream",
          "name": "stdout",
          "text": [
            "2000\n",
            "leap year\n"
          ]
        }
      ]
    }
  ]
}
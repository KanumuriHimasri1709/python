{
  "nbformat": 4,
  "nbformat_minor": 0,
  "metadata": {
    "colab": {
      "provenance": [],
      "authorship_tag": "ABX9TyMGS4dX/8MY6kfkuUOSf8zp",
      "include_colab_link": true
    },
    "kernelspec": {
      "name": "python3",
      "display_name": "Python 3"
    },
    "language_info": {
      "name": "python"
    }
  },
  "cells": [
    {
      "cell_type": "markdown",
      "metadata": {
        "id": "view-in-github",
        "colab_type": "text"
      },
      "source": [
        "<a href=\"https://colab.research.google.com/github/KanumuriHimasri1709/python/blob/main/Datatypes.ipynb\" target=\"_parent\"><img src=\"https://colab.research.google.com/assets/colab-badge.svg\" alt=\"Open In Colab\"/></a>"
      ]
    },
    {
      "cell_type": "code",
      "execution_count": 40,
      "metadata": {
        "colab": {
          "base_uri": "https://localhost:8080/"
        },
        "id": "ntocBDJ9QbyV",
        "outputId": "1ae5d2e5-0cb3-4d7d-c328-29b906bede98"
      },
      "outputs": [
        {
          "output_type": "stream",
          "name": "stdout",
          "text": [
            "dict_keys(['name', 'age'])\n",
            "dict_values(['radha', 19])\n",
            "dict_items([('name', 'radha'), ('age', 19)])\n",
            "{'name': 'radha', 'age': 19}\n",
            "<class 'dict'>\n",
            "{}\n",
            "{'name': 'radha', 'age': 19}\n",
            "radha\n",
            "{'name': 'radha'}\n",
            "{'name': 'radha', 'age': 19}\n",
            "{'name': 'radha', 'age': 19, 'course': 'ADS'}\n"
          ]
        }
      ],
      "source": [
        "#dict\n",
        "x={\"name\":\"radha\",\"age\":19}\n",
        "print(x.keys())\n",
        "print(x.values())\n",
        "print(x.items())\n",
        "print(x)\n",
        "print(type(x))\n",
        "\n",
        "\n",
        "#clear\n",
        "x={\"name\":\"radha\",\"age\":19}\n",
        "x.clear()\n",
        "print(x)\n",
        "\n",
        "#copy\n",
        "x={\"name\":\"radha\",\"age\":19}\n",
        "x.copy()\n",
        "print(x)\n",
        "\n",
        "#get\n",
        "x={\"name\":\"radha\",\"age\":19}\n",
        "y=x.get(\"name\")\n",
        "print(y)\n",
        "\n",
        "#pop\n",
        "x={\"name\":\"radha\",\"age\":19}\n",
        "x.pop(\"age\")\n",
        "print(x)\n",
        "\n",
        "#popitem\n",
        "x={\"name\":\"radha\",\"age\":19,\"course\":\"ADS\"}\n",
        "x.popitem()\n",
        "print(x)\n",
        "\n",
        "#update\n",
        "x={\"name\":\"radha\",\"age\":19,}\n",
        "x.update({\"course\":\"ADS\"})\n",
        "print(x)\n"
      ]
    },
    {
      "cell_type": "code",
      "source": [
        "#list\n",
        "#append\n",
        "y=['apple','banana','orange','grapes','banana']\n",
        "y.append(\"lemon\")\n",
        "print(y)\n",
        "\n",
        "#insert\n",
        "y=['apple','banana','orange','grapes','banana']\n",
        "y.insert(3,\"cherry\")\n",
        "print(y)\n",
        "\n",
        "\n",
        "#clear\n",
        "y=['apple','banana','orange','grapes','banana']\n",
        "y.clear()\n",
        "print(y)\n",
        "\n",
        "#copy\n",
        "y=['apple','banana','orange','grapes','banana']\n",
        "y.copy()\n",
        "print(y)\n",
        "\n",
        "#count\n",
        "y=['apple','banana','orange','grapes','banana']\n",
        "x=y.count(\"banana\")\n",
        "print(x)\n",
        "\n",
        "#extend\n",
        "y=['apple','banana','orange','grapes','banana']\n",
        "cherry=['sos','even','down']\n",
        "y.extend(cherry)\n",
        "print(y)\n",
        "\n",
        "#index\n",
        "y=['apple','banana','orange','grapes','banana']\n",
        "x=y.index(\"banana\")\n",
        "print(x)\n",
        "\n",
        "#pop\n",
        "\n",
        "y=['apple','banana','orange','grapes','banana']\n",
        "y.pop(2)\n",
        "print(y)\n",
        "\n",
        "#remove\n",
        "y=['apple','banana','orange','grapes','banana']\n",
        "y.remove(\"banana\")\n",
        "print(y)\n",
        "\n",
        "#reverse\n",
        "y=['apple','banana','orange','grapes','banana']\n",
        "y.reverse()\n",
        "print(y)\n",
        "\n",
        "#sort\n",
        "y=['apple','banana','orange','grapes','banana']\n",
        "y.sort()\n",
        "print(y)\n"
      ],
      "metadata": {
        "colab": {
          "base_uri": "https://localhost:8080/"
        },
        "id": "yEaStuAdR3Lt",
        "outputId": "a98d35ed-411d-468a-f5a7-7c498f042c3e"
      },
      "execution_count": null,
      "outputs": [
        {
          "output_type": "stream",
          "name": "stdout",
          "text": [
            "['apple', 'banana', 'orange', 'grapes', 'banana', 'lemon']\n",
            "['apple', 'banana', 'orange', 'cherry', 'grapes', 'banana']\n",
            "[]\n",
            "['apple', 'banana', 'orange', 'grapes', 'banana']\n",
            "2\n",
            "['apple', 'banana', 'orange', 'grapes', 'banana', 'sos', 'even', 'down']\n",
            "1\n",
            "['apple', 'banana', 'grapes', 'banana']\n",
            "['apple', 'orange', 'grapes', 'banana']\n",
            "['banana', 'grapes', 'orange', 'banana', 'apple']\n",
            "['apple', 'banana', 'banana', 'grapes', 'orange']\n"
          ]
        }
      ]
    },
    {
      "cell_type": "code",
      "source": [
        "#tuple\n",
        "#count\n",
        "a=('ramcharan','prabhas','anushka','kajal')\n",
        "x=a.count(2)\n",
        "print(x)\n",
        "\n",
        "#index\n",
        "a=(1,2,3,4,5,6,7,4)\n",
        "x=a.index(5)\n",
        "print(x)"
      ],
      "metadata": {
        "colab": {
          "base_uri": "https://localhost:8080/"
        },
        "id": "1gEN4W_Hqziq",
        "outputId": "d94ca60a-bd04-4365-f62b-fcca136410a8"
      },
      "execution_count": 38,
      "outputs": [
        {
          "output_type": "stream",
          "name": "stdout",
          "text": [
            "0\n",
            "4\n"
          ]
        }
      ]
    },
    {
      "cell_type": "code",
      "source": [
        "#sets\n",
        "\n",
        "#add\n",
        "a={1,2,3,4,5,6,7,4}\n",
        "a.add(8)\n",
        "print(a)\n",
        "\n",
        "#clear\n",
        "a={1,2,3,4,5,6,7,4}\n",
        "a.clear()\n",
        "print(a)\n",
        "\n",
        "#copy\n",
        "a={1,2,3,4,5,6,7,4}\n",
        "a.copy()\n",
        "print(a)\n",
        "\n",
        "#pop\n",
        "a={1,2,3,4,5,6,7,4}\n",
        "a.pop()\n",
        "print(a)\n",
        "\n",
        "#remove\n",
        "a={1,2,3,4,5,6,7,4}\n",
        "a.remove(3)\n",
        "print(a)"
      ],
      "metadata": {
        "colab": {
          "base_uri": "https://localhost:8080/"
        },
        "id": "XfXKPbvat9wd",
        "outputId": "74820336-5381-418a-8eea-feac560ac191"
      },
      "execution_count": 47,
      "outputs": [
        {
          "output_type": "stream",
          "name": "stdout",
          "text": [
            "{1, 2, 3, 4, 5, 6, 7, 8}\n",
            "set()\n",
            "{1, 2, 3, 4, 5, 6, 7}\n",
            "{2, 3, 4, 5, 6, 7}\n",
            "{1, 2, 4, 5, 6, 7}\n"
          ]
        }
      ]
    }
  ]
}
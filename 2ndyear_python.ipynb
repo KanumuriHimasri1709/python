{
  "nbformat": 4,
  "nbformat_minor": 0,
  "metadata": {
    "colab": {
      "provenance": [],
      "authorship_tag": "ABX9TyNcfK4sZnP5v4sfKS5tdjwK",
      "include_colab_link": true
    },
    "kernelspec": {
      "name": "python3",
      "display_name": "Python 3"
    },
    "language_info": {
      "name": "python"
    }
  },
  "cells": [
    {
      "cell_type": "markdown",
      "metadata": {
        "id": "view-in-github",
        "colab_type": "text"
      },
      "source": [
        "<a href=\"https://colab.research.google.com/github/KanumuriHimasri1709/python/blob/main/2ndyear_python.ipynb\" target=\"_parent\"><img src=\"https://colab.research.google.com/assets/colab-badge.svg\" alt=\"Open In Colab\"/></a>"
      ]
    },
    {
      "cell_type": "code",
      "execution_count": null,
      "metadata": {
        "colab": {
          "base_uri": "https://localhost:8080/"
        },
        "id": "T0dVgOHC4w3g",
        "outputId": "aeebb2cf-61a9-4ed7-bdbd-af8e7c1dc881"
      },
      "outputs": [
        {
          "output_type": "stream",
          "name": "stdout",
          "text": [
            "33\n"
          ]
        }
      ],
      "source": [
        "#variables\n",
        "_X=\"3\"\n",
        "Y=\"3\"\n",
        "print(_X+Y)"
      ]
    },
    {
      "cell_type": "code",
      "source": [
        "a=int(3)\n",
        "b=float(3)\n",
        "print(a)\n",
        "print(b)"
      ],
      "metadata": {
        "colab": {
          "base_uri": "https://localhost:8080/"
        },
        "id": "xNDvZi0350-v",
        "outputId": "f178cf0e-88b2-47af-9561-4ed6e67adaae"
      },
      "execution_count": null,
      "outputs": [
        {
          "output_type": "stream",
          "name": "stdout",
          "text": [
            "3\n",
            "3.0\n"
          ]
        }
      ]
    },
    {
      "cell_type": "code",
      "source": [
        "x=3\n",
        "x=4\n",
        "print(x)"
      ],
      "metadata": {
        "colab": {
          "base_uri": "https://localhost:8080/"
        },
        "id": "X1kveAyy6g8m",
        "outputId": "483aa605-5d47-4979-ff53-93c09de2a944"
      },
      "execution_count": null,
      "outputs": [
        {
          "output_type": "stream",
          "name": "stdout",
          "text": [
            "4\n"
          ]
        }
      ]
    },
    {
      "cell_type": "code",
      "source": [
        "a=10\n",
        "b=0.5\n",
        "sum=a+b\n",
        "print(sum)"
      ],
      "metadata": {
        "colab": {
          "base_uri": "https://localhost:8080/"
        },
        "id": "5zhDBz_A6nzk",
        "outputId": "12778450-f275-4d66-9a85-83cb7eb2fb90"
      },
      "execution_count": null,
      "outputs": [
        {
          "output_type": "stream",
          "name": "stdout",
          "text": [
            "10.5\n"
          ]
        }
      ]
    },
    {
      "cell_type": "code",
      "source": [
        "x=7.5\n",
        "print(x)\n",
        "type(x)"
      ],
      "metadata": {
        "colab": {
          "base_uri": "https://localhost:8080/"
        },
        "id": "cAmMNL2o6x5B",
        "outputId": "58c84625-4115-4f39-ead0-991a1c2ec2e1"
      },
      "execution_count": null,
      "outputs": [
        {
          "output_type": "stream",
          "name": "stdout",
          "text": [
            "7.5\n"
          ]
        },
        {
          "output_type": "execute_result",
          "data": {
            "text/plain": [
              "float"
            ]
          },
          "metadata": {},
          "execution_count": 7
        }
      ]
    },
    {
      "cell_type": "code",
      "source": [
        "a=['art','painter','actor']\n",
        "print(a)"
      ],
      "metadata": {
        "colab": {
          "base_uri": "https://localhost:8080/"
        },
        "id": "yM0j402K7MnO",
        "outputId": "cc474b37-1849-48c0-cf36-b2cd928d172a"
      },
      "execution_count": null,
      "outputs": [
        {
          "output_type": "stream",
          "name": "stdout",
          "text": [
            "['art', 'painter', 'actor']\n"
          ]
        }
      ]
    },
    {
      "cell_type": "code",
      "source": [
        "_abc=3\n",
        "print(_abc)"
      ],
      "metadata": {
        "colab": {
          "base_uri": "https://localhost:8080/"
        },
        "id": "DqqQDole8sWE",
        "outputId": "46a323d8-b8dd-4fab-885a-48a7692074cf"
      },
      "execution_count": null,
      "outputs": [
        {
          "output_type": "stream",
          "name": "stdout",
          "text": [
            "3\n"
          ]
        }
      ]
    },
    {
      "cell_type": "code",
      "source": [
        "l=56\n",
        "b=78  #area of rectangle\n",
        "a=l*b\n",
        "print(a)"
      ],
      "metadata": {
        "colab": {
          "base_uri": "https://localhost:8080/"
        },
        "id": "s_7dY1C8Chqu",
        "outputId": "b7c08417-9796-46c7-bb59-ac0d09cc7ade"
      },
      "execution_count": null,
      "outputs": [
        {
          "output_type": "stream",
          "name": "stdout",
          "text": [
            "4368\n"
          ]
        }
      ]
    },
    {
      "cell_type": "code",
      "source": [
        "#area of triangle\n",
        "h=48\n",
        "b=27\n",
        "area=0.5*h*b\n",
        "print(area)"
      ],
      "metadata": {
        "colab": {
          "base_uri": "https://localhost:8080/"
        },
        "id": "p7YAGeovYjhe",
        "outputId": "251cf094-3acc-4cf8-a73e-fbd257fe5d9b"
      },
      "execution_count": null,
      "outputs": [
        {
          "output_type": "stream",
          "name": "stdout",
          "text": [
            "648.0\n"
          ]
        }
      ]
    },
    {
      "cell_type": "code",
      "source": [
        "#area of circle\n",
        "r=12\n",
        "area=3.141*r*r\n",
        "print(area)"
      ],
      "metadata": {
        "colab": {
          "base_uri": "https://localhost:8080/"
        },
        "id": "SZaEPvICZAt-",
        "outputId": "1eb719fc-2302-4490-a79c-691c08457902"
      },
      "execution_count": null,
      "outputs": [
        {
          "output_type": "stream",
          "name": "stdout",
          "text": [
            "452.304\n"
          ]
        }
      ]
    },
    {
      "cell_type": "code",
      "source": [
        "#calculator\n",
        "x=78\n",
        "y=103\n",
        "print(x+y)\n",
        "print(x-y)\n",
        "print(x*y)\n",
        "print(x%y)\n",
        "print(x/y)\n",
        "print(x//y)"
      ],
      "metadata": {
        "colab": {
          "base_uri": "https://localhost:8080/"
        },
        "id": "XVJ_AtRdZYdY",
        "outputId": "a6d49f12-d9c5-42bc-a956-09e18216689c"
      },
      "execution_count": null,
      "outputs": [
        {
          "output_type": "stream",
          "name": "stdout",
          "text": [
            "181\n",
            "-25\n",
            "8034\n",
            "78\n",
            "0.7572815533980582\n",
            "0\n"
          ]
        }
      ]
    },
    {
      "cell_type": "code",
      "source": [
        "a=int(input())\n",
        "for i in range(1,a):\n",
        "    if(a%i==0):\n",
        "        print(\"prime\")\n",
        "        break\n",
        "    else:\n",
        "        print(\"not prime\")"
      ],
      "metadata": {
        "colab": {
          "base_uri": "https://localhost:8080/"
        },
        "id": "qmAhC-883bN8",
        "outputId": "570fd2aa-64b9-48f4-c6f8-4a14236e90fb"
      },
      "execution_count": null,
      "outputs": [
        {
          "output_type": "stream",
          "name": "stdout",
          "text": [
            "5\n",
            "prime\n"
          ]
        }
      ]
    },
    {
      "cell_type": "code",
      "source": [
        "a=int(input(\"enter number:\"))\n",
        "print(\"not eligible\",a<=18)\n",
        "print(\"eligible\",a>=18 )"
      ],
      "metadata": {
        "colab": {
          "base_uri": "https://localhost:8080/"
        },
        "id": "-F1x_iLVC1uU",
        "outputId": "a1bb45dd-e3db-4b7a-ab0b-22526ec6c119"
      },
      "execution_count": null,
      "outputs": [
        {
          "output_type": "stream",
          "name": "stdout",
          "text": [
            "enter number:17\n",
            "not eligible True\n",
            "eligible False\n"
          ]
        }
      ]
    },
    {
      "cell_type": "code",
      "source": [
        "b=int(input(\"enter number:\"))\n",
        "print(\"Even\",b%2==0)\n",
        "print(\"odd\",b%2!=0)"
      ],
      "metadata": {
        "colab": {
          "base_uri": "https://localhost:8080/"
        },
        "id": "gmhxBmHMIEd4",
        "outputId": "e7af0263-13ff-4ae2-b95e-38aaaf2ea60f"
      },
      "execution_count": null,
      "outputs": [
        {
          "output_type": "stream",
          "name": "stdout",
          "text": [
            "enter number:5\n",
            "Even False\n",
            "odd True\n"
          ]
        }
      ]
    },
    {
      "cell_type": "code",
      "source": [
        "X=int(input(\"enter number\"))\n",
        "if(X%5==0 and X%4==0):\n",
        "    print(\"fizz buzz\")\n",
        "elif(X%5==0):\n",
        "    print(\"buzz\")\n",
        "elif(X%4==0):\n",
        "    print(\"fizz\")\n",
        "else:\n",
        "    print(\"false\")"
      ],
      "metadata": {
        "colab": {
          "base_uri": "https://localhost:8080/"
        },
        "id": "O4rclr1SLxxX",
        "outputId": "1b513eca-56b7-47bc-869c-01b98263632a"
      },
      "execution_count": null,
      "outputs": [
        {
          "output_type": "stream",
          "name": "stdout",
          "text": [
            "enter number39\n",
            "false\n"
          ]
        }
      ]
    },
    {
      "cell_type": "code",
      "source": [
        "a=int(input())\n",
        "if(a<10):\n",
        "    print(\"True\")\n",
        "else:\n",
        "    print(\"false\")"
      ],
      "metadata": {
        "id": "Akzh0a04YYCl",
        "colab": {
          "base_uri": "https://localhost:8080/"
        },
        "outputId": "ca792faa-5ea3-4077-ac95-efe5343b5973"
      },
      "execution_count": null,
      "outputs": [
        {
          "output_type": "stream",
          "name": "stdout",
          "text": [
            "17\n",
            "false\n"
          ]
        }
      ]
    },
    {
      "cell_type": "code",
      "source": [
        "B=input()\n",
        "if(B==\"greenball\"):\n",
        "    print(\"found\")\n",
        "else:\n",
        "    print(\"not found\")"
      ],
      "metadata": {
        "colab": {
          "base_uri": "https://localhost:8080/"
        },
        "id": "wEX-1Y9oChKL",
        "outputId": "c84eddba-26fd-4c65-935b-8b02dd40f4b6"
      },
      "execution_count": null,
      "outputs": [
        {
          "output_type": "stream",
          "name": "stdout",
          "text": [
            "greenball\n",
            "found\n"
          ]
        }
      ]
    },
    {
      "cell_type": "code",
      "source": [
        "a=input(\"enter name :: \")\n",
        "print(a)"
      ],
      "metadata": {
        "colab": {
          "base_uri": "https://localhost:8080/"
        },
        "id": "OvT6OBesESCA",
        "outputId": "ba1f257d-c2a0-448b-9048-ea6dbed2010c"
      },
      "execution_count": null,
      "outputs": [
        {
          "output_type": "stream",
          "name": "stdout",
          "text": [
            "enter name :: Hima\n",
            "Hima\n"
          ]
        }
      ]
    },
    {
      "cell_type": "code",
      "source": [
        "a=int(input())\n",
        "if(a>10):\n",
        "    print(\"greater\")\n",
        "elif(a==10):\n",
        "    print(\"equal\")\n",
        "else:\n",
        "    print(\"lesser\")"
      ],
      "metadata": {
        "colab": {
          "base_uri": "https://localhost:8080/"
        },
        "id": "REKBzoRiGrrH",
        "outputId": "92fcfb77-c966-4ec4-b173-9ffe4c1c2cf3"
      },
      "execution_count": null,
      "outputs": [
        {
          "output_type": "stream",
          "name": "stdout",
          "text": [
            "10\n",
            "equal\n"
          ]
        }
      ]
    },
    {
      "cell_type": "code",
      "source": [
        "a=int(input())\n",
        "if(a<20):\n",
        "    print(\"charge\")\n",
        "elif(a<=50):\n",
        "    print(\"less use\")\n",
        "else:\n",
        "    print(\"use more\")"
      ],
      "metadata": {
        "colab": {
          "base_uri": "https://localhost:8080/"
        },
        "id": "KhkbD191JfzS",
        "outputId": "f2082957-1f73-409d-a29c-ebc091eb84d8"
      },
      "execution_count": null,
      "outputs": [
        {
          "output_type": "stream",
          "name": "stdout",
          "text": [
            "98\n",
            "use more\n"
          ]
        }
      ]
    },
    {
      "cell_type": "code",
      "source": [
        "a=int(input())\n",
        "for i in range(a,11):\n",
        "    if(i%2==0):\n",
        "        print(i)"
      ],
      "metadata": {
        "colab": {
          "base_uri": "https://localhost:8080/"
        },
        "id": "U6gZEG95MLxg",
        "outputId": "dcee9f61-c391-4d76-b2e0-43621491076b"
      },
      "execution_count": null,
      "outputs": [
        {
          "output_type": "stream",
          "name": "stdout",
          "text": [
            "2\n",
            "2\n",
            "4\n",
            "6\n",
            "8\n",
            "10\n"
          ]
        }
      ]
    },
    {
      "cell_type": "code",
      "source": [
        "Fruits=[\"dragon\",\"kiwi\",\"avagadro\"]\n",
        "for i in Fruits:\n",
        "    print(i)"
      ],
      "metadata": {
        "colab": {
          "base_uri": "https://localhost:8080/"
        },
        "id": "YkmvLPecQinS",
        "outputId": "e968b147-5e7c-4276-e6cc-d1421b98e447"
      },
      "execution_count": null,
      "outputs": [
        {
          "output_type": "stream",
          "name": "stdout",
          "text": [
            "dragon\n",
            "kiwi\n",
            "avagadro\n"
          ]
        }
      ]
    },
    {
      "cell_type": "code",
      "source": [
        "for i in \"banana\":\n",
        "    print(i)"
      ],
      "metadata": {
        "colab": {
          "base_uri": "https://localhost:8080/"
        },
        "id": "f55skC70RZP1",
        "outputId": "5569eccf-1807-4e24-d205-5e1e38647e0f"
      },
      "execution_count": null,
      "outputs": [
        {
          "output_type": "stream",
          "name": "stdout",
          "text": [
            "b\n",
            "a\n",
            "n\n",
            "a\n",
            "n\n",
            "a\n"
          ]
        }
      ]
    },
    {
      "cell_type": "code",
      "source": [
        "for i in range(1,6):\n",
        "    for j in range(1,6):\n",
        "        print(\"*\",end=\"\")\n",
        "    print()"
      ],
      "metadata": {
        "colab": {
          "base_uri": "https://localhost:8080/"
        },
        "id": "xDCgPByzXOXt",
        "outputId": "5f4e712b-7348-40df-a1bf-b9a1be303c86"
      },
      "execution_count": null,
      "outputs": [
        {
          "output_type": "stream",
          "name": "stdout",
          "text": [
            "*****\n",
            "*****\n",
            "*****\n",
            "*****\n",
            "*****\n"
          ]
        }
      ]
    },
    {
      "cell_type": "code",
      "source": [
        "n=int(input())\n",
        "for i in range(1,n):\n",
        "    for j in range(1,n):\n",
        "        print(j,end=\"\")\n",
        "    print()"
      ],
      "metadata": {
        "colab": {
          "base_uri": "https://localhost:8080/"
        },
        "id": "6qLnScVDX4sv",
        "outputId": "8db5521b-ab87-4907-d3bd-3673151eebbe"
      },
      "execution_count": null,
      "outputs": [
        {
          "output_type": "stream",
          "name": "stdout",
          "text": [
            "6\n",
            "12345\n",
            "12345\n",
            "12345\n",
            "12345\n",
            "12345\n"
          ]
        }
      ]
    },
    {
      "cell_type": "code",
      "source": [
        "n=int(input())\n",
        "for i in range(n):\n",
        "    for j in range(n):\n",
        "        print(\"*\",end=\"\")\n",
        "    print()"
      ],
      "metadata": {
        "colab": {
          "base_uri": "https://localhost:8080/"
        },
        "id": "NZxMTAHGIzk-",
        "outputId": "e69d414f-9151-4d01-eb26-e4ea5ef72e67"
      },
      "execution_count": null,
      "outputs": [
        {
          "output_type": "stream",
          "name": "stdout",
          "text": [
            "5\n",
            "*****\n",
            "*****\n",
            "*****\n",
            "*****\n",
            "*****\n"
          ]
        }
      ]
    },
    {
      "cell_type": "code",
      "source": [
        "n=int(input())\n",
        "for i in range(65,n):\n",
        "    for j in range(65,i+1):\n",
        "        print(chr(i),end=\" \")\n",
        "    print()"
      ],
      "metadata": {
        "colab": {
          "base_uri": "https://localhost:8080/"
        },
        "id": "w5ARm7SHdDgt",
        "outputId": "f2c7ee50-e888-427a-f85c-8ffb4a6eeb81"
      },
      "execution_count": null,
      "outputs": [
        {
          "output_type": "stream",
          "name": "stdout",
          "text": [
            "70\n",
            "A \n",
            "B B \n",
            "C C C \n",
            "D D D D \n",
            "E E E E E \n"
          ]
        }
      ]
    },
    {
      "cell_type": "code",
      "source": [
        "n=int(input())\n",
        "for i in range(65,n):\n",
        "    for j in range(65,i+1):\n",
        "        print(chr(j),end=\" \")\n",
        "    print()"
      ],
      "metadata": {
        "colab": {
          "base_uri": "https://localhost:8080/"
        },
        "id": "NHl81pB2UkAk",
        "outputId": "a1c0f7bb-787a-4438-c380-cb2314cdb29c"
      },
      "execution_count": null,
      "outputs": [
        {
          "output_type": "stream",
          "name": "stdout",
          "text": [
            "70\n",
            "A \n",
            "A B \n",
            "A B C \n",
            "A B C D \n",
            "A B C D E \n"
          ]
        }
      ]
    },
    {
      "cell_type": "code",
      "source": [
        "n=int(input())\n",
        "for i in range(1,n):\n",
        "    for j in range(1,i+1):\n",
        "        print(\"*\",end=\" \")\n",
        "    print()"
      ],
      "metadata": {
        "id": "PE0MuFmEfKPX",
        "colab": {
          "base_uri": "https://localhost:8080/"
        },
        "outputId": "a03df49b-1f96-4677-e8c4-c59e74039cb6"
      },
      "execution_count": null,
      "outputs": [
        {
          "output_type": "stream",
          "name": "stdout",
          "text": [
            "6\n",
            "* \n",
            "* * \n",
            "* * * \n",
            "* * * * \n",
            "* * * * * \n"
          ]
        }
      ]
    },
    {
      "cell_type": "code",
      "source": [
        "n=int(input())\n",
        "for i in range(1,n):\n",
        "    for j in range(i-1,n-1):\n",
        "        print(\"*\",end=\" \")\n",
        "    print()"
      ],
      "metadata": {
        "colab": {
          "base_uri": "https://localhost:8080/"
        },
        "id": "TA-eKJZq2d3Z",
        "outputId": "8f04832a-f138-49fb-8752-d2062fe8c373"
      },
      "execution_count": null,
      "outputs": [
        {
          "output_type": "stream",
          "name": "stdout",
          "text": [
            "6\n",
            "* * * * * \n",
            "* * * * \n",
            "* * * \n",
            "* * \n",
            "* \n"
          ]
        }
      ]
    },
    {
      "cell_type": "code",
      "source": [
        "i=0\n",
        "n=int(input())\n",
        "while(i<5):\n",
        "    print(i)\n",
        "    i+=1"
      ],
      "metadata": {
        "colab": {
          "base_uri": "https://localhost:8080/"
        },
        "id": "QKCgsnXgfTwM",
        "outputId": "d590ad62-f898-491b-baba-0335d9939a58"
      },
      "execution_count": null,
      "outputs": [
        {
          "output_type": "stream",
          "name": "stdout",
          "text": [
            "2\n",
            "0\n",
            "1\n",
            "2\n",
            "3\n",
            "4\n"
          ]
        }
      ]
    },
    {
      "cell_type": "code",
      "source": [
        "n=int(input())\n",
        "for i in range(1,n):\n",
        "    print(i)"
      ],
      "metadata": {
        "colab": {
          "base_uri": "https://localhost:8080/"
        },
        "id": "B3g_VeNQh-y_",
        "outputId": "0ecc6f5a-db06-4ea6-d6be-d41ff3695a5e"
      },
      "execution_count": null,
      "outputs": [
        {
          "output_type": "stream",
          "name": "stdout",
          "text": [
            "11\n",
            "1\n",
            "2\n",
            "3\n",
            "4\n",
            "5\n",
            "6\n",
            "7\n",
            "8\n",
            "9\n",
            "10\n"
          ]
        }
      ]
    },
    {
      "cell_type": "code",
      "source": [
        "for i in range(6):\n",
        "    if i==2:\n",
        "        continue\n",
        "    print(i)"
      ],
      "metadata": {
        "colab": {
          "base_uri": "https://localhost:8080/"
        },
        "id": "S8N__ccBjGpD",
        "outputId": "3c7fbfac-d1c8-4190-fff9-a1174d910d65"
      },
      "execution_count": null,
      "outputs": [
        {
          "output_type": "stream",
          "name": "stdout",
          "text": [
            "0\n",
            "1\n",
            "3\n",
            "4\n",
            "5\n"
          ]
        }
      ]
    },
    {
      "cell_type": "code",
      "source": [
        "for i in range(6):\n",
        "    if i==4:\n",
        "        break\n",
        "    print(i)"
      ],
      "metadata": {
        "colab": {
          "base_uri": "https://localhost:8080/"
        },
        "id": "FCxHGa-DkizF",
        "outputId": "7f629f56-1019-4665-f124-eddedbf048ca"
      },
      "execution_count": null,
      "outputs": [
        {
          "output_type": "stream",
          "name": "stdout",
          "text": [
            "0\n",
            "1\n",
            "2\n",
            "3\n"
          ]
        }
      ]
    },
    {
      "cell_type": "code",
      "source": [
        "\n",
        "B=int(input())\n",
        "for i in range(0,10):\n",
        "  if(i==5):\n",
        "    break\n",
        "  print(i)"
      ],
      "metadata": {
        "id": "QRW6gwTClny8",
        "colab": {
          "base_uri": "https://localhost:8080/"
        },
        "outputId": "cba51fb2-a78e-4ebe-882d-317c3fcb78b7"
      },
      "execution_count": null,
      "outputs": [
        {
          "output_type": "stream",
          "name": "stdout",
          "text": [
            "6\n",
            "0\n",
            "1\n",
            "2\n",
            "3\n",
            "4\n"
          ]
        }
      ]
    },
    {
      "cell_type": "code",
      "source": [
        "for i in range(1,21):\n",
        "  if(i%2==0):\n",
        "    continue\n",
        "  print(i)"
      ],
      "metadata": {
        "colab": {
          "base_uri": "https://localhost:8080/"
        },
        "id": "EpjTt0iMA3As",
        "outputId": "f03b662e-8132-4d59-d2fe-21e03477df28"
      },
      "execution_count": null,
      "outputs": [
        {
          "output_type": "stream",
          "name": "stdout",
          "text": [
            "1\n",
            "3\n",
            "5\n",
            "7\n",
            "9\n",
            "11\n",
            "13\n",
            "15\n",
            "17\n",
            "19\n"
          ]
        }
      ]
    },
    {
      "cell_type": "code",
      "source": [
        "i=0\n",
        "n=int(input())\n",
        "while(i<=30):\n",
        "  if(i%n==0):\n",
        "    print(i)\n",
        "  i+=1"
      ],
      "metadata": {
        "colab": {
          "base_uri": "https://localhost:8080/"
        },
        "id": "h0yN4RZDBpMX",
        "outputId": "91fa4bf2-e949-49fb-d0f8-e611263761df"
      },
      "execution_count": null,
      "outputs": [
        {
          "output_type": "stream",
          "name": "stdout",
          "text": [
            "3\n",
            "0\n",
            "3\n",
            "6\n",
            "9\n",
            "12\n",
            "15\n",
            "18\n",
            "21\n",
            "24\n",
            "27\n",
            "30\n"
          ]
        }
      ]
    },
    {
      "cell_type": "code",
      "source": [
        "#Comments\n",
        "a=\"she looks like a kajal\"\n",
        "#single line comment and print string\n",
        "print(a)"
      ],
      "metadata": {
        "colab": {
          "base_uri": "https://localhost:8080/"
        },
        "id": "gzYsvVZt5IHz",
        "outputId": "e1b34463-97cc-4298-ea74-d6dc63c781fb"
      },
      "execution_count": null,
      "outputs": [
        {
          "output_type": "stream",
          "name": "stdout",
          "text": [
            "she looks like a kajal\n"
          ]
        }
      ]
    },
    {
      "cell_type": "markdown",
      "source": [
        "Comments:In comments there are single line comments and multiline comments\n",
        "Single line comments is denoted by #\n",
        "Multiline comments is denoted by '''"
      ],
      "metadata": {
        "id": "421H6IRK5qW4"
      }
    },
    {
      "cell_type": "code",
      "source": [
        "#Variables\n",
        "ab1c=\"msg\"\n",
        "_AB1C=\"dd\"\n",
        "ab_1c=\"sha\"\n",
        "AB1C=\"skc\"\n",
        "print(ab1c)\n",
        "print(_AB1C)\n",
        "print(ab_1c)\n",
        "print(AB1C)"
      ],
      "metadata": {
        "colab": {
          "base_uri": "https://localhost:8080/"
        },
        "id": "s-cA3ylP63hp",
        "outputId": "4d22a1ab-a294-4927-fb7b-8c9e3d0a15b8"
      },
      "execution_count": null,
      "outputs": [
        {
          "output_type": "stream",
          "name": "stdout",
          "text": [
            "msg\n",
            "dd\n",
            "sha\n",
            "skc\n"
          ]
        }
      ]
    },
    {
      "cell_type": "markdown",
      "source": [
        "Variables:: it is a container to store the data like values,letters,words etc..\n",
        "Rules :-\n",
        "*We can not give space and special character except underscore and numbers"
      ],
      "metadata": {
        "id": "fNhE01ViEOHt"
      }
    },
    {
      "cell_type": "code",
      "source": [
        "#data types\n",
        "#int\n",
        "A=34\n",
        "print(A)\n",
        "print(type(A))\n",
        "\n",
        "#float\n",
        "B=2.56\n",
        "print(B)\n",
        "print(type(B))\n",
        "\n",
        "#string\n",
        "C=\"Orange\"\n",
        "print(C)\n",
        "print(type(C))\n",
        "\n",
        "#list\n",
        "S=[3,6,'also','cloud']\n",
        "print(S)\n",
        "print(type(S))\n",
        "\n",
        "#tuple\n",
        "Z=(7,'akka',6,'good')\n",
        "print(Z)\n",
        "print(type(Z))\n",
        "\n",
        "#boolean\n",
        "#true or false values can print like if ,else,for conditions lo manam true or false anevi print avvuthayi\n",
        "\n",
        "#int\n",
        "D=int(input())\n",
        "print(D)\n",
        "\n",
        "#float\n",
        "F=float(input())\n",
        "print(F)"
      ],
      "metadata": {
        "colab": {
          "base_uri": "https://localhost:8080/"
        },
        "id": "21vCbLTwEu_K",
        "outputId": "3b946321-49a2-4c0b-8814-9fe7868a050e"
      },
      "execution_count": null,
      "outputs": [
        {
          "output_type": "stream",
          "name": "stdout",
          "text": [
            "34\n",
            "<class 'int'>\n",
            "2.56\n",
            "<class 'float'>\n",
            "Orange\n",
            "<class 'str'>\n",
            "[3, 6, 'also', 'cloud']\n",
            "<class 'list'>\n",
            "(7, 'akka', 6, 'good')\n",
            "<class 'tuple'>\n",
            "5\n",
            "5\n",
            "67\n",
            "67.0\n"
          ]
        }
      ]
    },
    {
      "cell_type": "markdown",
      "source": [
        "Python::::\n",
        "* Python extension is .py\n",
        "* it is used a interpreter.\n",
        "* Interpreter means it checks the code line by line.\n",
        "* it is introduced by guido van rossum in 1991."
      ],
      "metadata": {
        "id": "-6XYb98kM8yF"
      }
    }
  ]
}